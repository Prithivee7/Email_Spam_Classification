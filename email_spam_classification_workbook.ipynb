{
 "cells": [
  {
   "cell_type": "code",
   "execution_count": 32,
   "metadata": {},
   "outputs": [],
   "source": [
    "import requests\n",
    "from bs4 import BeautifulSoup\n",
    "import tarfile\n",
    "from io import BytesIO\n",
    "from urllib.parse import urlparse\n",
    "import os\n",
    "import pandas as pd\n",
    "import re\n",
    "from spacy.lang.en.stop_words import STOP_WORDS as stopwords\n",
    "from unidecode import unidecode\n",
    "import numpy as np\n",
    "\n",
    "import matplotlib.pyplot as plt\n",
    "import seaborn as sns\n",
    "from wordcloud import WordCloud\n",
    "plt.style.use('ggplot')\n",
    "\n",
    "from sklearn.model_selection import train_test_split, GridSearchCV\n",
    "from sklearn.feature_extraction.text import CountVectorizer\n",
    "from sklearn.metrics import accuracy_score, classification_report, precision_recall_fscore_support\n",
    "from sklearn.svm import SVC\n",
    "from sklearn.tree import DecisionTreeClassifier\n",
    "from sklearn.naive_bayes import MultinomialNB\n",
    "from sklearn.model_selection import cross_val_score"
   ]
  },
  {
   "cell_type": "markdown",
   "metadata": {},
   "source": [
    "### Download and extract tar files from the link provided\n",
    "\n",
    "Link -> https://spamassassin.apache.org/old/publiccorpus/"
   ]
  },
  {
   "cell_type": "code",
   "execution_count": 6,
   "metadata": {},
   "outputs": [],
   "source": [
    "# Function to get all links from a webpage\n",
    "def get_all_links(url):\n",
    "    response = requests.get(url)\n",
    "\n",
    "    if response.status_code == 200:\n",
    "        soup = BeautifulSoup(response.text, 'html.parser')\n",
    "\n",
    "        # Find all 'a' tags (links) in the HTML\n",
    "        links = soup.find_all('a')\n",
    "\n",
    "        # Extract href attribute from each link\n",
    "        all_links = [link.get('href') for link in links if link.get('href') is not None]\n",
    "        tar_links = [link for link in all_links if 'tar.bz2' in link]\n",
    "        return tar_links\n",
    "    else:\n",
    "        print(f\"Failed to fetch URL. Status code: {response.status_code}\")\n",
    "        return []"
   ]
  },
  {
   "cell_type": "code",
   "execution_count": 15,
   "metadata": {},
   "outputs": [],
   "source": [
    "# Function to download and extract tar files\n",
    "def download_and_extract_tar(url):\n",
    "    response = requests.get(url)\n",
    "    \n",
    "    if response.status_code == 200:\n",
    "        # Create a tarfile from the response content\n",
    "        filename = os.path.basename(urlparse(url).path)\n",
    "\n",
    "        # Create a directory with the same name as the tar file (without extension)\n",
    "        directory_name = f\"extracted_data/{os.path.splitext(filename)[0]}\"\n",
    "        os.makedirs(directory_name, exist_ok=True)\n",
    "\n",
    "        # Create a tarfile from the response content\n",
    "        tar_file = tarfile.open(fileobj=BytesIO(response.content), mode=\"r\")\n",
    "\n",
    "        # Extract the contents to the created directory\n",
    "        tar_file.extractall(directory_name)\n",
    "        print(f\"Extracted contents from {url} to {directory_name}\")\n",
    "    else:\n",
    "        print(f\"Failed to download {url}. Status code: {response.status_code}\")"
   ]
  },
  {
   "cell_type": "code",
   "execution_count": 16,
   "metadata": {},
   "outputs": [
    {
     "name": "stdout",
     "output_type": "stream",
     "text": [
      "20021010_easy_ham.tar.bz2\n",
      "Extracted contents from https://spamassassin.apache.org/old/publiccorpus/20021010_easy_ham.tar.bz2 to extracted_data/20021010_easy_ham.tar\n",
      "20021010_hard_ham.tar.bz2\n",
      "Extracted contents from https://spamassassin.apache.org/old/publiccorpus/20021010_hard_ham.tar.bz2 to extracted_data/20021010_hard_ham.tar\n",
      "20021010_spam.tar.bz2\n",
      "Extracted contents from https://spamassassin.apache.org/old/publiccorpus/20021010_spam.tar.bz2 to extracted_data/20021010_spam.tar\n",
      "20030228_easy_ham.tar.bz2\n",
      "Extracted contents from https://spamassassin.apache.org/old/publiccorpus/20030228_easy_ham.tar.bz2 to extracted_data/20030228_easy_ham.tar\n",
      "20030228_easy_ham_2.tar.bz2\n",
      "Extracted contents from https://spamassassin.apache.org/old/publiccorpus/20030228_easy_ham_2.tar.bz2 to extracted_data/20030228_easy_ham_2.tar\n",
      "20030228_hard_ham.tar.bz2\n",
      "Extracted contents from https://spamassassin.apache.org/old/publiccorpus/20030228_hard_ham.tar.bz2 to extracted_data/20030228_hard_ham.tar\n",
      "20030228_spam.tar.bz2\n",
      "Extracted contents from https://spamassassin.apache.org/old/publiccorpus/20030228_spam.tar.bz2 to extracted_data/20030228_spam.tar\n",
      "20030228_spam_2.tar.bz2\n",
      "Extracted contents from https://spamassassin.apache.org/old/publiccorpus/20030228_spam_2.tar.bz2 to extracted_data/20030228_spam_2.tar\n",
      "20050311_spam_2.tar.bz2\n",
      "Extracted contents from https://spamassassin.apache.org/old/publiccorpus/20050311_spam_2.tar.bz2 to extracted_data/20050311_spam_2.tar\n"
     ]
    }
   ],
   "source": [
    "# Example usage\n",
    "url_to_scrape = \"https://spamassassin.apache.org/old/publiccorpus/\"\n",
    "all_links_on_page = get_all_links(url_to_scrape)\n",
    "\n",
    "# Print the extracted links\n",
    "for link in all_links_on_page:\n",
    "    print(link)\n",
    "    download_and_extract_tar(f\"https://spamassassin.apache.org/old/publiccorpus/{link}\")"
   ]
  },
  {
   "cell_type": "markdown",
   "metadata": {},
   "source": [
    "### Preprocessing"
   ]
  },
  {
   "cell_type": "code",
   "execution_count": 2,
   "metadata": {},
   "outputs": [],
   "source": [
    "def get_all_files():\n",
    "    ham_ls = []\n",
    "    spam_ls = []\n",
    "    parent_folder = \"extracted_data\"\n",
    "    for sub_folder in os.listdir(parent_folder):\n",
    "        fin_folder = os.listdir(f\"{parent_folder}/{sub_folder}\")[0]\n",
    "        file_ls = [f\"{parent_folder}/{sub_folder}/{fin_folder}/{file}\" for file in os.listdir(f\"{parent_folder}/{sub_folder}/{fin_folder}\")]\n",
    "        file_ls = [file for file in file_ls if \"cmds\" not in file]\n",
    "        if 'ham' in fin_folder:\n",
    "            ham_ls.extend(file_ls)\n",
    "        else:\n",
    "            spam_ls.extend(file_ls)\n",
    "    return ham_ls, spam_ls"
   ]
  },
  {
   "cell_type": "code",
   "execution_count": 3,
   "metadata": {},
   "outputs": [],
   "source": [
    "# This function removes lines which follow the format key: value\n",
    "def remove_key_value_information(content):\n",
    "    key_value_removed_ls = []\n",
    "    for line in content.splitlines():\n",
    "        if len(line.split(\":\")[0].split(\" \")) != 1 and line.strip() != '':\n",
    "            key_value_removed_ls.append(line)\n",
    "    key_value_removed_str = '\\n'.join(key_value_removed_ls)\n",
    "    return key_value_removed_str"
   ]
  },
  {
   "cell_type": "code",
   "execution_count": 4,
   "metadata": {},
   "outputs": [],
   "source": [
    "def extract_content_driver(file_ls):\n",
    "    raw_content = []\n",
    "    diff_ls = []\n",
    "    for file in file_ls:\n",
    "        try:\n",
    "            with open(file,\"r\") as read_object:\n",
    "                str_data = read_object.read()\n",
    "            \n",
    "            if \"Content-Transfer-Encoding\" in str_data:\n",
    "                index = str_data.find(\"Content-Transfer-Encoding\")\n",
    "                content_after_keyword = str_data[index:]\n",
    "                content = remove_key_value_information(content_after_keyword)\n",
    "            elif \"Content-Type\" in str_data:\n",
    "                index = str_data.find(\"Content-Type\")\n",
    "                content_after_keyword = str_data[index:]\n",
    "                content = remove_key_value_information(content_after_keyword)\n",
    "            elif \"Date:\" in str_data:\n",
    "                index = str_data.find(\"Date:\")\n",
    "                content_after_keyword = str_data[index:]\n",
    "                content = remove_key_value_information(content_after_keyword)\n",
    "            raw_content.append(content)\n",
    "\n",
    "        except:\n",
    "            diff_ls.append(file)\n",
    "\n",
    "    return raw_content"
   ]
  },
  {
   "cell_type": "code",
   "execution_count": 5,
   "metadata": {},
   "outputs": [],
   "source": [
    "def merge_spam_and_ham_with_shuffling():\n",
    "    ham_ls, spam_ls = get_all_files()\n",
    "    raw_content = extract_content_driver(ham_ls)\n",
    "    ham_df =pd.DataFrame(raw_content, columns=[\"Text\"])\n",
    "    ham_df['Class'] = 'Not Spam'\n",
    "\n",
    "    raw_content = extract_content_driver(spam_ls)\n",
    "    spam_df =pd.DataFrame(raw_content, columns=[\"Text\"])\n",
    "    spam_df['Class'] = 'Spam'\n",
    "\n",
    "    result_df = pd.concat([ham_df, spam_df], ignore_index=True)\n",
    "    shuffled_df = result_df.sample(frac = 1).reset_index(drop=True)\n",
    "    return shuffled_df\n"
   ]
  },
  {
   "cell_type": "code",
   "execution_count": 6,
   "metadata": {},
   "outputs": [],
   "source": [
    "def remove_urls(x):\n",
    "    # Define a regex pattern to match URLs\n",
    "    url_pattern = re.compile(r'https?://\\S+|www\\.\\S+')\n",
    "    result_string = url_pattern.sub('', x)\n",
    "    return result_string\n",
    "\n",
    "def remove_special_chars(x):\n",
    "\tx = re.sub(r'[^\\w ]+', \"\", x)\n",
    "\tx = ' '.join(x.split())\n",
    "\treturn x\n",
    "\n",
    "def remove_html_tags(input_string):\n",
    "    # Use BeautifulSoup to parse the HTML and extract text content\n",
    "    soup = BeautifulSoup(input_string, 'html.parser')\n",
    "    text_content = soup.get_text(separator=' ')\n",
    "    return text_content\n",
    "\n",
    "# def remove_html_tags(x):\n",
    "# \treturn BeautifulSoup(x, 'html.parser').get_text().strip()\n",
    "\n",
    "# def remove_accented_chars(x):\n",
    "# \tx = unicodedata.normalize('NFKD', x).encode('ascii', 'ignore').decode('utf-8', 'ignore')\n",
    "# \treturn x\n",
    "\n",
    "def remove_accented_characters(input_string):\n",
    "    # Use unidecode to remove accented characters\n",
    "    result_string = unidecode(input_string)\n",
    "    return result_string\n",
    "\n",
    "def remove_stopwords(x):\n",
    "\treturn ' '.join([t for t in x.split() if t not in stopwords])\t\n",
    "\n",
    "\n",
    "def perform_preprocessing(df):\n",
    "\tdf['Text'] = df['Text'].apply(lambda x: remove_urls(x))\n",
    "\t# df['Text'] = df['Text'].apply(lambda x: remove_special_chars(x))\n",
    "\tdf['Text'] = df['Text'].apply(lambda x: remove_html_tags(x))\n",
    "\tdf['Text'] = df['Text'].apply(lambda x: remove_accented_characters(x))\n",
    "\tdf['Text'] = df['Text'].apply(lambda x: remove_stopwords(x))\n",
    "\treturn df\n",
    "\t"
   ]
  },
  {
   "cell_type": "code",
   "execution_count": 7,
   "metadata": {},
   "outputs": [
    {
     "name": "stderr",
     "output_type": "stream",
     "text": [
      "C:\\Users\\Prithivee\\AppData\\Local\\Temp\\ipykernel_16320\\2043530819.py:14: MarkupResemblesLocatorWarning: The input looks more like a filename than markup. You may want to open this file and pass the filehandle into Beautiful Soup.\n",
      "  soup = BeautifulSoup(input_string, 'html.parser')\n"
     ]
    }
   ],
   "source": [
    "shuffled_df = merge_spam_and_ham_with_shuffling()\n",
    "preprocessed_df = perform_preprocessing(shuffled_df)"
   ]
  },
  {
   "cell_type": "markdown",
   "metadata": {},
   "source": [
    "### Exploratory data analysis"
   ]
  },
  {
   "cell_type": "markdown",
   "metadata": {},
   "source": [
    "- Target Class Distribution"
   ]
  },
  {
   "cell_type": "code",
   "execution_count": 37,
   "metadata": {},
   "outputs": [],
   "source": [
    "plt.rcParams['figure.figsize'] = [8,4]\n",
    "plt.rcParams['figure.dpi'] = 80"
   ]
  },
  {
   "cell_type": "code",
   "execution_count": 39,
   "metadata": {},
   "outputs": [
    {
     "data": {
      "image/png": "[encoded data removed]",
      "text/plain": [
       "<Figure size 640x320 with 1 Axes>"
      ]
     },
     "metadata": {},
     "output_type": "display_data"
    }
   ],
   "source": [
    "preprocessed_df['Class'].value_counts().plot.pie(autopct='%1.2f%%')\n",
    "\n",
    "# Add a title to the pie chart\n",
    "plt.title('Spam vs Not Spam')\n",
    "\n",
    "# Display the plot\n",
    "plt.show()"
   ]
  },
  {
   "cell_type": "markdown",
   "metadata": {},
   "source": [
    "- Character and Word Distribution in Email"
   ]
  },
  {
   "cell_type": "code",
   "execution_count": 41,
   "metadata": {},
   "outputs": [],
   "source": [
    "def get_wordcounts(x):\n",
    "\tlength = len(str(x).split())\n",
    "\treturn length\n",
    "\n",
    "def get_charcounts(x):\n",
    "\ts = x.split()\n",
    "\tx = ''.join(s)\n",
    "\treturn len(x)\n",
    "\n",
    "temp_df = preprocessed_df.copy(deep=True)\n",
    "temp_df['Character_Count'] = temp_df['Text'].apply(get_charcounts)\n",
    "temp_df['Word_Count'] = temp_df['Text'].apply(get_wordcounts)"
   ]
  },
  {
   "cell_type": "code",
   "execution_count": 45,
   "metadata": {},
   "outputs": [
    {
     "name": "stderr",
     "output_type": "stream",
     "text": [
      "C:\\Users\\Prithivee\\AppData\\Local\\Temp\\ipykernel_16320\\1508368177.py:1: FutureWarning: \n",
      "\n",
      "`shade` is now deprecated in favor of `fill`; setting `fill=True`.\n",
      "This will become an error in seaborn v0.14.0; please update your code.\n",
      "\n",
      "  sns.kdeplot(temp_df[temp_df['Class']=='Spam']['Character_Count'], shade=True, color='red',label='Spam')\n",
      "C:\\Users\\Prithivee\\AppData\\Local\\Temp\\ipykernel_16320\\1508368177.py:2: FutureWarning: \n",
      "\n",
      "`shade` is now deprecated in favor of `fill`; setting `fill=True`.\n",
      "This will become an error in seaborn v0.14.0; please update your code.\n",
      "\n",
      "  sns.kdeplot(temp_df[temp_df['Class']=='Not Spam']['Character_Count'], shade=True, color='blue',label='Not Spam')\n"
     ]
    },
    {
     "data": {
      "image/png": "[encoded data removed]",
      "text/plain": [
       "<Figure size 640x320 with 1 Axes>"
      ]
     },
     "metadata": {},
     "output_type": "display_data"
    }
   ],
   "source": [
    "sns.kdeplot(temp_df[temp_df['Class']=='Spam']['Character_Count'], shade=True, color='red',label='Spam')\n",
    "sns.kdeplot(temp_df[temp_df['Class']=='Not Spam']['Character_Count'], shade=True, color='blue',label='Not Spam')\n",
    "\n",
    "plt.title('Distribution of Character Counts for Spam and Not Spam')\n",
    "plt.xlabel('Character Count')\n",
    "plt.ylabel('Density')\n",
    "\n",
    "# Display legend\n",
    "plt.legend()\n",
    "\n",
    "# Show the plot\n",
    "plt.show()"
   ]
  },
  {
   "cell_type": "code",
   "execution_count": 46,
   "metadata": {},
   "outputs": [
    {
     "name": "stderr",
     "output_type": "stream",
     "text": [
      "C:\\Users\\Prithivee\\AppData\\Local\\Temp\\ipykernel_16320\\2908805993.py:1: FutureWarning: \n",
      "\n",
      "`shade` is now deprecated in favor of `fill`; setting `fill=True`.\n",
      "This will become an error in seaborn v0.14.0; please update your code.\n",
      "\n",
      "  sns.kdeplot(temp_df[temp_df['Class']=='Spam']['Word_Count'], shade=True, color='red',label='Spam')\n",
      "C:\\Users\\Prithivee\\AppData\\Local\\Temp\\ipykernel_16320\\2908805993.py:2: FutureWarning: \n",
      "\n",
      "`shade` is now deprecated in favor of `fill`; setting `fill=True`.\n",
      "This will become an error in seaborn v0.14.0; please update your code.\n",
      "\n",
      "  sns.kdeplot(temp_df[temp_df['Class']=='Not Spam']['Word_Count'], shade=True, color='blue',label='Not Spam')\n"
     ]
    },
    {
     "data": {
      "image/png": "[encoded data removed]",
      "text/plain": [
       "<Figure size 640x320 with 1 Axes>"
      ]
     },
     "metadata": {},
     "output_type": "display_data"
    }
   ],
   "source": [
    "sns.kdeplot(temp_df[temp_df['Class']=='Spam']['Word_Count'], shade=True, color='red',label='Spam')\n",
    "sns.kdeplot(temp_df[temp_df['Class']=='Not Spam']['Word_Count'], shade=True, color='blue',label='Not Spam')\n",
    "\n",
    "plt.title('Distribution of Word Counts for Spam and Not Spam')\n",
    "plt.xlabel('Word Count')\n",
    "plt.ylabel('Density')\n",
    "\n",
    "# Display legend\n",
    "plt.legend()\n",
    "\n",
    "# Show the plot\n",
    "plt.show()"
   ]
  },
  {
   "cell_type": "markdown",
   "metadata": {},
   "source": [
    "### Train Test Split"
   ]
  },
  {
   "cell_type": "code",
   "execution_count": 8,
   "metadata": {},
   "outputs": [
    {
     "name": "stdout",
     "output_type": "stream",
     "text": [
      "Train set shapes -> X: (8581,), y: (8581,)\n",
      "Test set shapes -> X: (2146,), y: (2146,)\n"
     ]
    }
   ],
   "source": [
    "X_data =  preprocessed_df['Text']\n",
    "y_data =  preprocessed_df['Class']\n",
    "\n",
    "# Set the random_state for reproducibility\n",
    "random_state_value = 42  # You can use any integer value as the random state\n",
    "\n",
    "# Perform the train-test split\n",
    "X_train, X_test, y_train, y_test = train_test_split(X_data, y_data, test_size=0.2, random_state=random_state_value)\n",
    "\n",
    "print(\"Train set shapes -> X: {}, y: {}\".format(X_train.shape, y_train.shape))\n",
    "print(\"Test set shapes -> X: {}, y: {}\".format(X_test.shape, y_test.shape))\n",
    "\n",
    "# Convert text data to feature vectors using CountVectorizer\n",
    "vectorizer = CountVectorizer()\n",
    "X_train_vectorized = vectorizer.fit_transform(X_train)\n",
    "X_test_vectorized = vectorizer.transform(X_test)"
   ]
  },
  {
   "cell_type": "markdown",
   "metadata": {},
   "source": [
    "### Model Training "
   ]
  },
  {
   "cell_type": "code",
   "execution_count": 11,
   "metadata": {},
   "outputs": [],
   "source": [
    "model_metadata_ls= []"
   ]
  },
  {
   "cell_type": "markdown",
   "metadata": {},
   "source": [
    "- Naive Bayes"
   ]
  },
  {
   "cell_type": "code",
   "execution_count": 12,
   "metadata": {},
   "outputs": [
    {
     "name": "stdout",
     "output_type": "stream",
     "text": [
      "Naive Bayes\n",
      "Accuracy: 0.96\n",
      "Classification Report:\n",
      "               precision    recall  f1-score   support\n",
      "\n",
      "    Not Spam       0.96      0.99      0.97      1430\n",
      "        Spam       0.97      0.91      0.94       716\n",
      "\n",
      "    accuracy                           0.96      2146\n",
      "   macro avg       0.96      0.95      0.96      2146\n",
      "weighted avg       0.96      0.96      0.96      2146\n",
      "\n"
     ]
    }
   ],
   "source": [
    "# Train the Naive Bayes model\n",
    "naive_bayes_model = MultinomialNB()\n",
    "naive_bayes_model.fit(X_train_vectorized, y_train)\n",
    "\n",
    "# Make predictions on the test set\n",
    "y_pred = naive_bayes_model.predict(X_test_vectorized)\n",
    "\n",
    "# Evaluate the model\n",
    "accuracy = accuracy_score(y_test, y_pred)\n",
    "classification_rep = classification_report(y_test, y_pred)\n",
    "\n",
    "# Print the evaluation metrics\n",
    "print(\"Naive Bayes\")\n",
    "print(f\"Accuracy: {accuracy:.2f}\")\n",
    "print(\"Classification Report:\\n\", classification_rep)\n",
    "\n",
    "# Extract precision, recall, and F1-score for each class\n",
    "precision, recall, f1, _ = precision_recall_fscore_support(y_test, y_pred, average='macro')\n",
    "model_metadata_ls.append({\"Model\":\"Naive Bayes\",\n",
    "                           \"Accuracy\":round(accuracy, 2),\n",
    "                           \"Precision\": round(precision,2),\n",
    "                           \"Recall\": round(recall,2),\n",
    "                           \"F1 score\": round(f1,2)\n",
    "                           })"
   ]
  },
  {
   "cell_type": "markdown",
   "metadata": {},
   "source": [
    "- SVM"
   ]
  },
  {
   "cell_type": "code",
   "execution_count": 16,
   "metadata": {},
   "outputs": [
    {
     "name": "stdout",
     "output_type": "stream",
     "text": [
      "Best Hyperparameters: {'C': 0.1, 'kernel': 'linear'}\n",
      "SVM\n",
      "Accuracy: 0.98\n",
      "Classification Report:\n",
      "               precision    recall  f1-score   support\n",
      "\n",
      "    Not Spam       0.97      1.00      0.98      1430\n",
      "        Spam       0.99      0.94      0.96       716\n",
      "\n",
      "    accuracy                           0.98      2146\n",
      "   macro avg       0.98      0.97      0.97      2146\n",
      "weighted avg       0.98      0.98      0.98      2146\n",
      "\n"
     ]
    }
   ],
   "source": [
    "# Define the SVM model\n",
    "svm_model = SVC()\n",
    "\n",
    "# Define the hyperparameter grid to search\n",
    "param_grid = {\n",
    "    'C': [0.1, 1, 10, 100],        # Regularization parameter\n",
    "    'kernel': ['linear', 'rbf']  # Kernel type\n",
    "}\n",
    "\n",
    "# Create a GridSearchCV object\n",
    "grid_search = GridSearchCV(estimator=svm_model, param_grid=param_grid, cv=5, scoring='accuracy')\n",
    "\n",
    "# Fit the model using the best hyperparameters\n",
    "grid_search.fit(X_train_vectorized, y_train)\n",
    "\n",
    "# Print the best hyperparameters\n",
    "best_params = grid_search.best_params_\n",
    "print(\"Best Hyperparameters:\", best_params)\n",
    "\n",
    "# Predict using the best model\n",
    "y_pred = grid_search.predict(X_test_vectorized)\n",
    "\n",
    "# Evaluate the model\n",
    "accuracy = accuracy_score(y_test, y_pred)\n",
    "classification_rep = classification_report(y_test, y_pred)\n",
    "\n",
    "print(\"SVM\")\n",
    "print(f\"Accuracy: {accuracy:.2f}\")\n",
    "print(\"Classification Report:\\n\", classification_rep)\n",
    "\n",
    "precision, recall, f1, _ = precision_recall_fscore_support(y_test, y_pred, average='macro')\n",
    "model_metadata_ls.append({\"Model\":\"SVM\",\n",
    "                           \"Accuracy\":round(accuracy, 2),\n",
    "                           \"Precision\": round(precision,2),\n",
    "                           \"Recall\": round(recall,2),\n",
    "                           \"F1 score\": round(f1,2)\n",
    "                           })\n"
   ]
  },
  {
   "cell_type": "markdown",
   "metadata": {},
   "source": [
    "- Decision Trees"
   ]
  },
  {
   "cell_type": "code",
   "execution_count": 21,
   "metadata": {},
   "outputs": [
    {
     "name": "stdout",
     "output_type": "stream",
     "text": [
      "Decision Trees\n",
      "Best Hyperparameters: {'criterion': 'gini', 'max_depth': None, 'min_samples_leaf': 1, 'min_samples_split': 2}\n",
      "Accuracy: 0.97\n",
      "Classification Report:\n",
      "               precision    recall  f1-score   support\n",
      "\n",
      "    Not Spam       0.99      0.96      0.97      1430\n",
      "        Spam       0.92      0.99      0.95       716\n",
      "\n",
      "    accuracy                           0.97      2146\n",
      "   macro avg       0.95      0.97      0.96      2146\n",
      "weighted avg       0.97      0.97      0.97      2146\n",
      "\n"
     ]
    }
   ],
   "source": [
    "# Define the Decision Tree model\n",
    "decision_tree_model = DecisionTreeClassifier()\n",
    "\n",
    "# Define the hyperparameter grid to search\n",
    "param_grid = {\n",
    "    'criterion': ['gini', 'entropy'],        # Criterion for splitting\n",
    "    'max_depth': [None, 5, 10, 15],           # Maximum depth of the tree\n",
    "    'min_samples_split': [2, 5, 10],          # Minimum number of samples required to split an internal node\n",
    "    'min_samples_leaf': [1, 2, 4]             # Minimum number of samples required to be at a leaf node\n",
    "}\n",
    "\n",
    "print(\"Decision Trees\")\n",
    "# Create a GridSearchCV object\n",
    "grid_search = GridSearchCV(estimator=decision_tree_model, param_grid=param_grid, cv=5, scoring='accuracy')\n",
    "\n",
    "# Fit the model using the best hyperparameters\n",
    "grid_search.fit(X_train_vectorized, y_train)\n",
    "\n",
    "# Print the best hyperparameters\n",
    "best_params = grid_search.best_params_\n",
    "print(\"Best Hyperparameters:\", best_params)\n",
    "\n",
    "# Predict using the best model\n",
    "y_pred = grid_search.predict(X_test_vectorized)\n",
    "\n",
    "# Evaluate the model\n",
    "accuracy = accuracy_score(y_test, y_pred)\n",
    "classification_rep = classification_report(y_test, y_pred)\n",
    "print(f\"Accuracy: {accuracy:.2f}\")\n",
    "print(\"Classification Report:\\n\", classification_rep)\n",
    "\n",
    "\n",
    "precision, recall, f1, _ = precision_recall_fscore_support(y_test, y_pred, average='macro')\n",
    "model_metadata_ls.append({\"Model\":\"Decision Tree\",\n",
    "                           \"Accuracy\":round(accuracy, 2),\n",
    "                           \"Precision\": round(precision,2),\n",
    "                           \"Recall\": round(recall,2),\n",
    "                           \"F1 score\": round(f1,2)\n",
    "                           })\n"
   ]
  },
  {
   "cell_type": "markdown",
   "metadata": {},
   "source": [
    "### Model Comparison"
   ]
  },
  {
   "cell_type": "code",
   "execution_count": 24,
   "metadata": {},
   "outputs": [
    {
     "data": {
      "text/html": [
       "<div>\n",
       "<style scoped>\n",
       "    .dataframe tbody tr th:only-of-type {\n",
       "        vertical-align: middle;\n",
       "    }\n",
       "\n",
       "    .dataframe tbody tr th {\n",
       "        vertical-align: top;\n",
       "    }\n",
       "\n",
       "    .dataframe thead th {\n",
       "        text-align: right;\n",
       "    }\n",
       "</style>\n",
       "<table border=\"1\" class=\"dataframe\">\n",
       "  <thead>\n",
       "    <tr style=\"text-align: right;\">\n",
       "      <th></th>\n",
       "      <th>Model</th>\n",
       "      <th>Accuracy</th>\n",
       "      <th>Precision</th>\n",
       "      <th>Recall</th>\n",
       "      <th>F1 score</th>\n",
       "    </tr>\n",
       "  </thead>\n",
       "  <tbody>\n",
       "    <tr>\n",
       "      <th>1</th>\n",
       "      <td>SVM</td>\n",
       "      <td>0.98</td>\n",
       "      <td>0.98</td>\n",
       "      <td>0.97</td>\n",
       "      <td>0.97</td>\n",
       "    </tr>\n",
       "    <tr>\n",
       "      <th>2</th>\n",
       "      <td>Decision Tree</td>\n",
       "      <td>0.97</td>\n",
       "      <td>0.95</td>\n",
       "      <td>0.97</td>\n",
       "      <td>0.96</td>\n",
       "    </tr>\n",
       "    <tr>\n",
       "      <th>0</th>\n",
       "      <td>Naive Bayes</td>\n",
       "      <td>0.96</td>\n",
       "      <td>0.96</td>\n",
       "      <td>0.95</td>\n",
       "      <td>0.96</td>\n",
       "    </tr>\n",
       "  </tbody>\n",
       "</table>\n",
       "</div>"
      ],
      "text/plain": [
       "           Model  Accuracy  Precision  Recall  F1 score\n",
       "1            SVM      0.98       0.98    0.97      0.97\n",
       "2  Decision Tree      0.97       0.95    0.97      0.96\n",
       "0    Naive Bayes      0.96       0.96    0.95      0.96"
      ]
     },
     "execution_count": 24,
     "metadata": {},
     "output_type": "execute_result"
    }
   ],
   "source": [
    "model_metadata_df = pd.DataFrame(model_metadata_ls)\n",
    "model_metadata_df = model_metadata_df.sort_values(by='Accuracy', ascending=False)\n",
    "model_metadata_df"
   ]
  }
 ],
 "metadata": {
  "kernelspec": {
   "display_name": "Python 3",
   "language": "python",
   "name": "python3"
  },
  "language_info": {
   "codemirror_mode": {
    "name": "ipython",
    "version": 3
   },
   "file_extension": ".py",
   "mimetype": "text/x-python",
   "name": "python",
   "nbconvert_exporter": "python",
   "pygments_lexer": "ipython3",
   "version": "3.11.4"
  }
 },
 "nbformat": 4,
 "nbformat_minor": 2
}
